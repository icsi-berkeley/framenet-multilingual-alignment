{
 "cells": [
  {
   "cell_type": "code",
   "execution_count": 1,
   "metadata": {},
   "outputs": [],
   "source": [
    "from fnalign.alignment.muse import Embedding, get_emb"
   ]
  },
  {
   "cell_type": "code",
   "execution_count": 2,
   "metadata": {},
   "outputs": [],
   "source": [
    "en_emb = get_emb(\"en\")"
   ]
  },
  {
   "cell_type": "code",
   "execution_count": 3,
   "metadata": {},
   "outputs": [],
   "source": [
    "l2_emb = get_emb(\"es\")"
   ]
  },
  {
   "cell_type": "code",
   "execution_count": 4,
   "metadata": {},
   "outputs": [
    {
     "data": {
      "text/plain": [
       "<fnalign.models.Alignment at 0x10876bf90>"
      ]
     },
     "execution_count": 4,
     "metadata": {},
     "output_type": "execute_result"
    }
   ],
   "source": [
    "from fnalign.loaders import load\n",
    "from fnalign.models import Alignment\n",
    "\n",
    "eng_frm = load(\"bfn\", \"en\")\n",
    "es_frm = load(\"spanishfn\", \"es\")\n",
    "alignment = Alignment(\"spanishfn\", \"es\")\n",
    "alignment.load(eng_frm, es_frm)"
   ]
  },
  {
   "cell_type": "code",
   "execution_count": 5,
   "metadata": {},
   "outputs": [
    {
     "name": "stderr",
     "output_type": "stream",
     "text": [
      "Loading faiss.\n"
     ]
    },
    {
     "name": "stdout",
     "output_type": "stream",
     "text": [
      "Inference finished --- 280.5107579231262 seconds ---\n"
     ]
    }
   ],
   "source": [
    "from collections import defaultdict\n",
    "\n",
    "import time\n",
    "start = time.time()\n",
    "l2_emb.create_index()\n",
    "\n",
    "vecs = defaultdict(set)\n",
    "# Including NN in L2 space of english LUs\n",
    "for name, row in alignment.en_frm.iterrows():\n",
    "    for lu in row[\"obj\"].lus:\n",
    "        lu_vec = en_emb.infer_vector(lu.clean_name)\n",
    "        \n",
    "        if lu_vec is not None:\n",
    "            vecs[name].update(l2_emb.get_knn(lu_vec))\n",
    "\n",
    "# L2 LUs vectors\n",
    "for name, row in alignment.l2_frm.iterrows():\n",
    "    for lu in row[\"obj\"].lus:\n",
    "        if lu.clean_name in l2_emb.word2id:\n",
    "            vecs[name].add(l2_emb.word2id[lu.clean_name])\n",
    "    \n",
    "print(\"Inference finished --- %s seconds ---\" % (time.time() - start))"
   ]
  },
  {
   "cell_type": "code",
   "execution_count": 6,
   "metadata": {},
   "outputs": [
    {
     "name": "stdout",
     "output_type": "stream",
     "text": [
      "Scoring finished --- 1.0802419185638428 seconds ---\n"
     ]
    }
   ],
   "source": [
    "start = time.time()\n",
    "scores = []\n",
    "\n",
    "for frame, other in alignment.pairs():\n",
    "    if len(frame.lus) == 0:\n",
    "        scores.append(0)\n",
    "    else:\n",
    "        scores.append(len(frm_vecs[frame.name] & frm_vecs[other.name]) / len(frame.lus))\n",
    "\n",
    "print(\"Scoring finished --- %s seconds ---\" % (time.time() - start))"
   ]
  },
  {
   "cell_type": "code",
   "execution_count": 7,
   "metadata": {},
   "outputs": [],
   "source": [
    "muse"
   ]
  }
 ],
 "metadata": {
  "kernelspec": {
   "display_name": "Python 3",
   "language": "python",
   "name": "python3"
  },
  "language_info": {
   "codemirror_mode": {
    "name": "ipython",
    "version": 3
   },
   "file_extension": ".py",
   "mimetype": "text/x-python",
   "name": "python",
   "nbconvert_exporter": "python",
   "pygments_lexer": "ipython3",
   "version": "3.7.5"
  }
 },
 "nbformat": 4,
 "nbformat_minor": 2
}
