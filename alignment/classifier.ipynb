{
 "cells": [
  {
   "cell_type": "code",
   "execution_count": 1,
   "metadata": {},
   "outputs": [],
   "source": [
    "import os \n",
    "import json\n",
    "\n",
    "dbname = \"spanishfn\"\n",
    "path = os.path.join('..', 'out', '202110191402_spanishfn.json')\n",
    "\n",
    "with open(path) as fp:\n",
    "    data = json.load(fp)\n"
   ]
  },
  {
   "cell_type": "code",
   "execution_count": 2,
   "metadata": {},
   "outputs": [],
   "source": [
    "from itertools import product\n",
    "\n",
    "path = os.path.join('..', 'data', 'gold', f'{dbname}.txt')\n",
    "\n",
    "with open(path, 'r') as fp:\n",
    "    pairs = set(map(lambda l: tuple(l.split()), fp.readlines()))"
   ]
  },
  {
   "cell_type": "code",
   "execution_count": 3,
   "metadata": {},
   "outputs": [],
   "source": [
    "en_frms = set(map(lambda x: x[0], pairs))\n",
    "l2_frms = set(map(lambda x: x[1], pairs))\n",
    "\n",
    "en_idx = [\n",
    "    i\n",
    "    for i, name in enumerate(data['indices'][0])\n",
    "    if data['frames'][name]['name'] in en_frms\n",
    "]\n",
    "\n",
    "l2_idx = [\n",
    "    i\n",
    "    for i, name in enumerate(data['indices'][1])\n",
    "    if data['frames'][name]['name'] in en_frms\n",
    "]"
   ]
  },
  {
   "cell_type": "code",
   "execution_count": 4,
   "metadata": {},
   "outputs": [],
   "source": [
    "import numpy as np\n",
    "\n",
    "alignments = [a for a in data['alignments'] if a['type'] != 'attr_matching'] \n",
    "\n",
    "for alignment in alignments:\n",
    "    array = np.array(alignment['data'])\n",
    "    array = array[:, l2_idx]\n",
    "    alignment['np_array'] = array[en_idx].flatten()\n",
    "\n",
    "X = np.stack([a['np_array'] for a in alignments]).T"
   ]
  },
  {
   "cell_type": "code",
   "execution_count": 5,
   "metadata": {},
   "outputs": [],
   "source": [
    "y = []\n",
    "\n",
    "for f1, f2 in product(en_idx, l2_idx):\n",
    "    i = data['indices'][0][f1]\n",
    "    en_frm = data['frames'][i]['name']\n",
    "    j = data['indices'][1][f2]\n",
    "    l2_frm = data['frames'][j]['name']\n",
    "\n",
    "    y.append(1 if (en_frm, l2_frm) in pairs else 0)\n",
    "    \n",
    "y = np.array(y)"
   ]
  },
  {
   "cell_type": "code",
   "execution_count": 6,
   "metadata": {},
   "outputs": [
    {
     "data": {
      "text/plain": [
       "(881721, 11)"
      ]
     },
     "execution_count": 6,
     "metadata": {},
     "output_type": "execute_result"
    }
   ],
   "source": [
    "X.shape"
   ]
  },
  {
   "cell_type": "code",
   "execution_count": 7,
   "metadata": {},
   "outputs": [
    {
     "data": {
      "text/plain": [
       "(881721,)"
      ]
     },
     "execution_count": 7,
     "metadata": {},
     "output_type": "execute_result"
    }
   ],
   "source": [
    "y.shape"
   ]
  },
  {
   "cell_type": "code",
   "execution_count": 8,
   "metadata": {},
   "outputs": [
    {
     "data": {
      "text/plain": [
       "SVC(C=1.0, break_ties=False, cache_size=200, class_weight=None, coef0=0.0,\n",
       "    decision_function_shape='ovr', degree=3, gamma='scale', kernel='linear',\n",
       "    max_iter=-1, probability=True, random_state=None, shrinking=True, tol=0.001,\n",
       "    verbose=False)"
      ]
     },
     "execution_count": 8,
     "metadata": {},
     "output_type": "execute_result"
    }
   ],
   "source": [
    "from sklearn.svm import SVC\n",
    "\n",
    "svm = SVC(kernel='linear', probability=True)\n",
    "svm.fit(X, y)"
   ]
  },
  {
   "cell_type": "code",
   "execution_count": 9,
   "metadata": {},
   "outputs": [
    {
     "data": {
      "image/png": "[encoded data removed]",
      "text/plain": [
       "<Figure size 432x288 with 1 Axes>"
      ]
     },
     "metadata": {
      "needs_background": "light"
     },
     "output_type": "display_data"
    }
   ],
   "source": [
    "import matplotlib.pyplot as plt\n",
    "from sklearn.metrics import average_precision_score, PrecisionRecallDisplay, precision_recall_curve\n",
    "\n",
    "y_pred = svm.predict_proba(X).T[1]\n",
    "precision, recall, _ = precision_recall_curve(y, y_pred)\n",
    "average_precision = average_precision_score(y, y_pred)\n",
    "disp = PrecisionRecallDisplay(precision, recall, average_precision, 'SVM')\n",
    "disp.plot()\n",
    "plt.show()"
   ]
  },
  {
   "cell_type": "code",
   "execution_count": 10,
   "metadata": {},
   "outputs": [
    {
     "data": {
      "text/plain": [
       "LogisticRegressionCV(Cs=10, class_weight=None, cv=4, dual=False,\n",
       "                     fit_intercept=True, intercept_scaling=1.0, l1_ratios=None,\n",
       "                     max_iter=1000, multi_class='auto', n_jobs=None,\n",
       "                     penalty='l2', random_state=25, refit=True, scoring=None,\n",
       "                     solver='lbfgs', tol=0.0001, verbose=0)"
      ]
     },
     "execution_count": 10,
     "metadata": {},
     "output_type": "execute_result"
    }
   ],
   "source": [
    "from sklearn.linear_model import LogisticRegressionCV\n",
    "\n",
    "logreg = LogisticRegressionCV(cv=4, max_iter=1000, random_state=25)\n",
    "logreg.fit(X, y)"
   ]
  },
  {
   "cell_type": "code",
   "execution_count": 11,
   "metadata": {},
   "outputs": [
    {
     "data": {
      "image/png": "[encoded data removed]",
      "text/plain": [
       "<Figure size 432x288 with 1 Axes>"
      ]
     },
     "metadata": {
      "needs_background": "light"
     },
     "output_type": "display_data"
    }
   ],
   "source": [
    "import matplotlib.pyplot as plt\n",
    "from sklearn.metrics import average_precision_score, PrecisionRecallDisplay, precision_recall_curve\n",
    "\n",
    "y_pred = logreg.decision_function(X)\n",
    "precision, recall, _ = precision_recall_curve(y, y_pred)\n",
    "average_precision = average_precision_score(y, y_pred)\n",
    "disp = PrecisionRecallDisplay(precision, recall, average_precision, 'LogReg')\n",
    "disp.plot()\n",
    "plt.show()"
   ]
  },
  {
   "cell_type": "code",
   "execution_count": null,
   "metadata": {},
   "outputs": [],
   "source": []
  }
 ],
 "metadata": {
  "kernelspec": {
   "display_name": "Python 3.7.5 64-bit ('mlfn': conda)",
   "language": "python",
   "name": "python37564bitmlfnconda6c363edbe5ae40b98f651b9eed3885b0"
  },
  "language_info": {
   "codemirror_mode": {
    "name": "ipython",
    "version": 3
   },
   "file_extension": ".py",
   "mimetype": "text/x-python",
   "name": "python",
   "nbconvert_exporter": "python",
   "pygments_lexer": "ipython3",
   "version": "3.7.5"
  }
 },
 "nbformat": 4,
 "nbformat_minor": 2
}
