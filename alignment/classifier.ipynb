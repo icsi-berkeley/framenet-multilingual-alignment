{
 "cells": [
  {
   "cell_type": "markdown",
   "metadata": {},
   "source": [
    "## Find golden pair indices in output JSON"
   ]
  },
  {
   "cell_type": "code",
   "execution_count": 1,
   "metadata": {},
   "outputs": [],
   "source": [
    "def gold_idx(data, pairs):\n",
    "    en_frms = set(map(lambda x: x[0], pairs))\n",
    "    l2_frms = set(map(lambda x: x[1], pairs))\n",
    "\n",
    "    en_idx = [\n",
    "        i\n",
    "        for i, name in enumerate(data['indices'][0])\n",
    "        if data['frames'][name]['name'] in en_frms\n",
    "    ]\n",
    "\n",
    "    l2_idx = [\n",
    "        i\n",
    "        for i, name in enumerate(data['indices'][1])\n",
    "        if data['frames'][name]['name'] in l2_frms\n",
    "    ]\n",
    "    \n",
    "    return en_idx, l2_idx"
   ]
  },
  {
   "cell_type": "markdown",
   "metadata": {},
   "source": [
    "## Prepare scoring data and gold to train classifier"
   ]
  },
  {
   "cell_type": "code",
   "execution_count": 2,
   "metadata": {},
   "outputs": [],
   "source": [
    "import numpy as np\n",
    "from itertools import product\n",
    "\n",
    "def clf_data(data, gold, pairs, alignments, en_idx, l2_idx):\n",
    "    for alignment in alignments:\n",
    "        array = np.array(alignment['data'])\n",
    "        array = array[:, l2_idx]\n",
    "        alignment['np_array'] = array[en_idx].flatten()\n",
    "\n",
    "    arrays = [a['np_array'] for a in alignments]\n",
    "    \n",
    "    if len(arrays) == 0:\n",
    "        return np.array([]), np.array([])\n",
    "    \n",
    "    X = np.stack(arrays).T\n",
    "    y = np.array([\n",
    "        (1 if (en_frm, l2_frm) in gold else 0)\n",
    "        for en_frm, l2_frm in pairs\n",
    "    ])\n",
    "    \n",
    "    return X, y"
   ]
  },
  {
   "cell_type": "markdown",
   "metadata": {},
   "source": [
    "## Read all existing alignments and preprocess data"
   ]
  },
  {
   "cell_type": "code",
   "execution_count": 3,
   "metadata": {
    "scrolled": true
   },
   "outputs": [],
   "source": [
    "import os\n",
    "import re\n",
    "import json\n",
    "\n",
    "outpath = os.path.join('..', 'out')\n",
    "data = []\n",
    "\n",
    "def scores(data, features, ids=set(), exclude=False):\n",
    "    if exclude:\n",
    "        fn = lambda x: x['type'] not in features and x['id'] not in ids\n",
    "    else:\n",
    "        fn = lambda x: x['type'] in features or x['id'] in ids\n",
    "\n",
    "    return [a for a in data['alignments'] if fn(a)]\n",
    "\n",
    "\n",
    "for filename in os.listdir(outpath):\n",
    "    dbname = re.search(r'\\d+_(\\w*)', filename).group(1)\n",
    "    datapath = os.path.join(outpath, filename)\n",
    "    goldpath = os.path.join('..', 'data', 'gold', f'{dbname}.txt')\n",
    "    \n",
    "    with open(datapath) as fp:\n",
    "        outdata = json.load(fp)\n",
    "\n",
    "    with open(goldpath) as fp:\n",
    "        gold = set(map(lambda l: tuple(l.split()), fp.readlines()))\n",
    "        \n",
    "    pairs = []\n",
    "    en_idx, l2_idx = gold_idx(outdata, gold)\n",
    "    \n",
    "    for f1, f2 in product(en_idx, l2_idx):\n",
    "        i = outdata['indices'][0][f1]\n",
    "        en_frm = outdata['frames'][i]['name']\n",
    "        j = outdata['indices'][1][f2]\n",
    "        l2_frm = outdata['frames'][j]['name']\n",
    "        \n",
    "        pairs.append((en_frm, l2_frm))\n",
    "\n",
    "    \n",
    "    # feature sets\n",
    "    full = scores(outdata, ['attr_matching', 'fe_matching', 'muse_fe_matching'], exclude=True)\n",
    "    fe = scores(outdata, ['attr_matching'], exclude=True)\n",
    "    sym = scores(outdata, ['lu_wordnet', 'synset', 'synset_inv'], exclude=False)\n",
    "    emb = scores(outdata, ['attr_matching', 'fe_matching', 'lu_wordnet', 'synset', 'synset_inv', 'muse_fe_matching'], exclude=True)\n",
    "    emb_lu = scores(outdata, ['attr_matching', 'fe_matching', 'lu_wordnet', 'synset', 'synset_inv', 'muse_fe_matching'], exclude=True)\n",
    "\n",
    "    X, y = clf_data(outdata, gold, pairs, full, en_idx, l2_idx)\n",
    "    X_fe, y_fe = clf_data(outdata, gold, pairs, fe, en_idx, l2_idx)\n",
    "    X_sym, y_sym = clf_data(outdata, gold, pairs, sym, en_idx, l2_idx)\n",
    "    X_emb, y_emb = clf_data(outdata, gold, pairs, emb, en_idx, l2_idx)\n",
    "    X_emb_lu, y_emb_lu = clf_data(outdata, gold, pairs, emb_lu, en_idx, l2_idx)\n",
    "    \n",
    "    data.append({\n",
    "        'name': dbname,\n",
    "        'X': X, 'y': y,\n",
    "        'X_fe': X_fe, 'y_fe': y_fe,\n",
    "        'X_sym': X_sym, 'y_sym': y_sym,\n",
    "        'X_emb': X_emb, 'y_emb': y_emb,\n",
    "        'X_emb_lu': X_emb_lu, 'y_emb_lu': y_emb_lu,\n",
    "        'pairs': pairs,\n",
    "        'features': list(map(lambda x: x['id'], full)),\n",
    "        'features_fe': list(map(lambda x: x['id'], fe)),\n",
    "        'features_emb': list(map(lambda x: x['id'], emb))\n",
    "    })\n"
   ]
  },
  {
   "cell_type": "markdown",
   "metadata": {},
   "source": [
    "## Variable density"
   ]
  },
  {
   "cell_type": "code",
   "execution_count": 4,
   "metadata": {
    "scrolled": true
   },
   "outputs": [],
   "source": [
    "import numpy as np \n",
    "from sklearn.neighbors import KernelDensity\n",
    "\n",
    "lu_wordnet = data[0]['X'][:, 1]\n",
    "frame_def_muse = data[0]['X'][:, 5]\n",
    "\n",
    "lu_wordnet = lu_wordnet[lu_wordnet > 0].reshape(-1, 1)\n",
    "frame_def_muse = frame_def_muse[np.random.randint(len(frame_def_muse), size=10000)].reshape(-1, 1)"
   ]
  },
  {
   "cell_type": "code",
   "execution_count": 5,
   "metadata": {},
   "outputs": [],
   "source": [
    "kde_wn = KernelDensity(kernel=\"gaussian\", bandwidth=0.01).fit(lu_wordnet)\n",
    "kde_muse = KernelDensity(kernel=\"gaussian\", bandwidth=0.01).fit(frame_def_muse.reshape(-1, 1))"
   ]
  },
  {
   "cell_type": "code",
   "execution_count": 6,
   "metadata": {},
   "outputs": [
    {
     "data": {
      "image/png": "[encoded data removed]",
      "text/plain": [
       "<Figure size 432x288 with 1 Axes>"
      ]
     },
     "metadata": {
      "needs_background": "light"
     },
     "output_type": "display_data"
    }
   ],
   "source": [
    "import matplotlib.pyplot as plt\n",
    "\n",
    "# _, ax = plt.subplots(figsize=(10,10))\n",
    "\n",
    "X_plot = np.linspace(-0.05, 1.05, 1000)[:, np.newaxis]\n",
    "plt.plot(X_plot, np.exp(kde_wn.score_samples(X_plot)), 'r', label=\"synset-based\")\n",
    "plt.plot(X_plot, np.exp(kde_muse.score_samples(X_plot)), 'b', label=\"vector-based\")\n",
    "plt.legend(loc=\"upper left\", fontsize=14)\n",
    "plt.xticks(fontsize=14, rotation=0)\n",
    "plt.yticks(fontsize=14, rotation=0)\n",
    "\n",
    "plt.savefig('chart.pdf', transparent=True, dpi=300)\n",
    "plt.show()\n",
    "plt.close()"
   ]
  },
  {
   "cell_type": "markdown",
   "metadata": {},
   "source": [
    "## Train all LogReg classifiers"
   ]
  },
  {
   "cell_type": "code",
   "execution_count": 7,
   "metadata": {},
   "outputs": [],
   "source": [
    "# vars\n",
    "\n",
    "DB_NAMES = [d['name'] for d in data]\n",
    "FULL = [(d['X'], d['y']) for d in data]\n",
    "FULL_FE = [(d['X_fe'], d['y_fe']) for d in data]\n",
    "SYM = [(d['X_sym'], d['y_sym']) for d in data]\n",
    "EMB = [(d['X_emb'], d['y_emb']) for d in data]\n",
    "EMB_LU = [(d['X_emb_lu'], d['y_emb_lu']) for d in data]"
   ]
  },
  {
   "cell_type": "code",
   "execution_count": 8,
   "metadata": {},
   "outputs": [],
   "source": [
    "from sklearn.linear_model import LogisticRegressionCV\n",
    "from sklearn.preprocessing import StandardScaler\n",
    "\n",
    "def train(data, dtype):\n",
    "    clfs = []\n",
    "\n",
    "    for dbname, (X, y) in zip(DB_NAMES, data):\n",
    "        if len(X) == 0:\n",
    "            clfs.append(None)\n",
    "            continue\n",
    "            \n",
    "        scaler = StandardScaler()\n",
    "        X_scaled = scaler.fit_transform(X)\n",
    "        \n",
    "        logreg = LogisticRegressionCV(cv=5, max_iter=300, solver='liblinear', class_weight=\"balanced\", n_jobs=4, random_state=25)\n",
    "        logreg.fit(X_scaled, y)\n",
    "\n",
    "        clfs.append(logreg)\n",
    "        print('Trained classifier for: ' + dbname + f' ({dtype})')\n",
    "    \n",
    "    return clfs"
   ]
  },
  {
   "cell_type": "code",
   "execution_count": 9,
   "metadata": {},
   "outputs": [
    {
     "name": "stdout",
     "output_type": "stream",
     "text": [
      "Trained classifier for: dutchfn (full)\n",
      "Trained classifier for: fnbrasil (full)\n",
      "Trained classifier for: japanesefn (full)\n",
      "Trained classifier for: spanishfn (full)\n",
      "Trained classifier for: swedishfn (full)\n",
      "Trained classifier for: salsa (full)\n",
      "Trained classifier for: frenchfn (full)\n",
      "Trained classifier for: chinesefn (full)\n"
     ]
    }
   ],
   "source": [
    "# Whole dataset classifiers\n",
    "clfs = train(FULL, 'full')"
   ]
  },
  {
   "cell_type": "code",
   "execution_count": 10,
   "metadata": {},
   "outputs": [
    {
     "name": "stdout",
     "output_type": "stream",
     "text": [
      "Trained classifier for: dutchfn (full + FEs)\n",
      "Trained classifier for: fnbrasil (full + FEs)\n",
      "Trained classifier for: japanesefn (full + FEs)\n",
      "Trained classifier for: spanishfn (full + FEs)\n",
      "Trained classifier for: swedishfn (full + FEs)\n",
      "Trained classifier for: salsa (full + FEs)\n",
      "Trained classifier for: frenchfn (full + FEs)\n",
      "Trained classifier for: chinesefn (full + FEs)\n"
     ]
    }
   ],
   "source": [
    "# Whole dataset + FE\n",
    "fe_clfs = train(FULL_FE, 'full + FEs')"
   ]
  },
  {
   "cell_type": "code",
   "execution_count": 11,
   "metadata": {},
   "outputs": [],
   "source": [
    "# Symbolic methods classifiers\n",
    "# sym_clfs = train(SYM, 'symbolic')"
   ]
  },
  {
   "cell_type": "code",
   "execution_count": 12,
   "metadata": {
    "scrolled": true
   },
   "outputs": [],
   "source": [
    "# Distributional methods classifiers\n",
    "# emb_clfs = train(EMB, 'distributional')"
   ]
  },
  {
   "cell_type": "code",
   "execution_count": 13,
   "metadata": {
    "scrolled": true
   },
   "outputs": [],
   "source": [
    "# Distributional methods (for LUs only) classifiers\n",
    "# emb_lu_clfs = train(EMB_LU, 'distributional LU only')"
   ]
  },
  {
   "cell_type": "code",
   "execution_count": 14,
   "metadata": {
    "scrolled": true
   },
   "outputs": [],
   "source": [
    "import matplotlib \n",
    "import matplotlib.pyplot as plt\n",
    "from sklearn.metrics import average_precision_score, PrecisionRecallDisplay, precision_recall_curve\n",
    "from sklearn.preprocessing import StandardScaler\n",
    "\n",
    "matplotlib.rcParams.update({'font.size': 18})\n",
    "\n",
    "plot_name = {\n",
    "    'chinesefn': 'Chinese FN',\n",
    "    'dutchfn': 'Dutch FN',\n",
    "    'fnbrasil': 'FN Brasil',\n",
    "    'frenchfn': 'French FN',\n",
    "    'japanesefn': 'Japanese FN',\n",
    "    'salsa': 'Salsa',\n",
    "    'spanishfn': 'Spanish FN',\n",
    "    'swedishfn': 'Swedish FN',\n",
    "}\n",
    "\n",
    "def plot(data, clfs, filename = None):\n",
    "    _, ax = plt.subplots(figsize=(10, 10))\n",
    "    plot_data = []\n",
    "\n",
    "    for name, (X, y), clf in zip(DB_NAMES, data, clfs):\n",
    "        if clf is None:\n",
    "            continue\n",
    "            \n",
    "        scaler = StandardScaler()\n",
    "        X_scaled = scaler.fit_transform(X)\n",
    "        \n",
    "        y_pred = clf.decision_function(X_scaled)\n",
    "        precision, recall, _ = precision_recall_curve(y, y_pred)\n",
    "    \n",
    "        numerator = 2 * recall * precision\n",
    "        denom = recall + precision\n",
    "        f1_scores = np.divide(numerator, denom, out=np.zeros_like(denom), where=(denom!=0))\n",
    "        max_f1 = np.max(f1_scores)\n",
    "        \n",
    "        plot_data.append((precision, recall, max_f1, name))\n",
    "\n",
    "    plot_data.sort(key=lambda x: -x[2])\n",
    "    \n",
    "    for p, r, f, n in plot_data:\n",
    "        display = PrecisionRecallDisplay(p, r)\n",
    "        display.plot(ax=ax, name=f'{plot_name[n]} (F1 = {f:.2f})')\n",
    "    \n",
    "    handles, labels = display.ax_.get_legend_handles_labels()\n",
    "    ax.set_xlim([0.0, 1.0])\n",
    "    ax.set_ylim([0.0, 1.05])\n",
    "    ax.set_title(\"Precision-Recall Curves for All FrameNet Databases\")\n",
    "    lgd = ax.legend(handles=handles, labels=labels, loc=\"center left\", bbox_to_anchor=(1,0.5))\n",
    "\n",
    "    if filename is not None:\n",
    "        plt.savefig(filename, transparent=True, dpi=300, bbox_extra_artists=(lgd,), bbox_inches='tight')\n",
    "    \n",
    "    plt.show()\n",
    "    plt.close()"
   ]
  },
  {
   "cell_type": "code",
   "execution_count": 15,
   "metadata": {
    "scrolled": true
   },
   "outputs": [],
   "source": [
    "# Plot full\n",
    "# plot(FULL, clfs, 'full-scores.pdf')"
   ]
  },
  {
   "cell_type": "code",
   "execution_count": 16,
   "metadata": {
    "scrolled": true
   },
   "outputs": [
    {
     "data": {
      "image/png": "[encoded data removed]",
      "text/plain": [
       "<Figure size 720x720 with 1 Axes>"
      ]
     },
     "metadata": {
      "needs_background": "light"
     },
     "output_type": "display_data"
    }
   ],
   "source": [
    "# Plot full FE\n",
    "plot(FULL_FE, fe_clfs, 'full-fe-scores.pdf')"
   ]
  },
  {
   "cell_type": "code",
   "execution_count": 17,
   "metadata": {},
   "outputs": [],
   "source": [
    "看# Plot full FE (no french)\n",
    "# french_idx = next(i for i, d in enumerate(data) if d['name'] == 'frenchfn')\n",
    "# fe_clfs_ = fe_clfs[:french_idx] + fe_clfs[french_idx+1:]\n",
    "# FULL_FE_ = FULL_FE[:french_idx] + FULL_FE[french_idx+1:]\n",
    "\n",
    "# DB_NAMES = [d['name'] for d in data if d['name'] != 'frenchfn']\n",
    "# plot(FULL_FE_, fe_clfs_, 'full-fe-scores(no frenchfn).pdf')\n",
    "# DB_NAMES = [d['name'] for d in data]"
   ]
  },
  {
   "cell_type": "code",
   "execution_count": 18,
   "metadata": {},
   "outputs": [],
   "source": [
    "# Plot symbolic\n",
    "# plot(SYM, sym_clfs, 'symbolic-scores.pdf')"
   ]
  },
  {
   "cell_type": "code",
   "execution_count": 19,
   "metadata": {},
   "outputs": [],
   "source": [
    "# Plot distributional\n",
    "# plot(EMB, emb_clfs, 'distributional-scores.pdf')"
   ]
  },
  {
   "cell_type": "code",
   "execution_count": 20,
   "metadata": {},
   "outputs": [],
   "source": [
    "# Plot distributional LU only\n",
    "# plot(EMB_LU, emb_lu_clfs, 'distributional-scores-lu.pdf')"
   ]
  },
  {
   "cell_type": "code",
   "execution_count": 21,
   "metadata": {},
   "outputs": [
    {
     "ename": "NameError",
     "evalue": "name 'sym_clfs' is not defined",
     "output_type": "error",
     "traceback": [
      "\u001b[0;31m---------------------------------------------------------------------------\u001b[0m",
      "\u001b[0;31mNameError\u001b[0m                                 Traceback (most recent call last)",
      "\u001b[0;32m/tmp/ipykernel_354820/3332228178.py\u001b[0m in \u001b[0;36m<module>\u001b[0;34m\u001b[0m\n\u001b[1;32m      2\u001b[0m \u001b[0;32mfrom\u001b[0m \u001b[0msklearn\u001b[0m\u001b[0;34m.\u001b[0m\u001b[0mpreprocessing\u001b[0m \u001b[0;32mimport\u001b[0m \u001b[0mStandardScaler\u001b[0m\u001b[0;34m\u001b[0m\u001b[0;34m\u001b[0m\u001b[0m\n\u001b[1;32m      3\u001b[0m \u001b[0;34m\u001b[0m\u001b[0m\n\u001b[0;32m----> 4\u001b[0;31m \u001b[0;32mfor\u001b[0m \u001b[0md\u001b[0m\u001b[0;34m,\u001b[0m \u001b[0mclf\u001b[0m\u001b[0;34m,\u001b[0m \u001b[0msym_clf\u001b[0m\u001b[0;34m,\u001b[0m \u001b[0memb_clf\u001b[0m\u001b[0;34m,\u001b[0m \u001b[0memb_lu_clf\u001b[0m \u001b[0;32min\u001b[0m \u001b[0mzip\u001b[0m\u001b[0;34m(\u001b[0m\u001b[0mdata\u001b[0m\u001b[0;34m,\u001b[0m \u001b[0mclfs\u001b[0m\u001b[0;34m,\u001b[0m \u001b[0msym_clfs\u001b[0m\u001b[0;34m,\u001b[0m \u001b[0memb_clfs\u001b[0m\u001b[0;34m,\u001b[0m \u001b[0memb_lu_clfs\u001b[0m\u001b[0;34m)\u001b[0m\u001b[0;34m:\u001b[0m\u001b[0;34m\u001b[0m\u001b[0;34m\u001b[0m\u001b[0m\n\u001b[0m\u001b[1;32m      5\u001b[0m     \u001b[0mX\u001b[0m \u001b[0;34m=\u001b[0m \u001b[0mStandardScaler\u001b[0m\u001b[0;34m(\u001b[0m\u001b[0;34m)\u001b[0m\u001b[0;34m.\u001b[0m\u001b[0mfit_transform\u001b[0m\u001b[0;34m(\u001b[0m\u001b[0md\u001b[0m\u001b[0;34m[\u001b[0m\u001b[0;34m'X'\u001b[0m\u001b[0;34m]\u001b[0m\u001b[0;34m)\u001b[0m\u001b[0;34m\u001b[0m\u001b[0;34m\u001b[0m\u001b[0m\n\u001b[1;32m      6\u001b[0m     \u001b[0mX_sym\u001b[0m \u001b[0;34m=\u001b[0m \u001b[0mStandardScaler\u001b[0m\u001b[0;34m(\u001b[0m\u001b[0;34m)\u001b[0m\u001b[0;34m.\u001b[0m\u001b[0mfit_transform\u001b[0m\u001b[0;34m(\u001b[0m\u001b[0md\u001b[0m\u001b[0;34m[\u001b[0m\u001b[0;34m'X_sym'\u001b[0m\u001b[0;34m]\u001b[0m\u001b[0;34m)\u001b[0m\u001b[0;34m\u001b[0m\u001b[0;34m\u001b[0m\u001b[0m\n",
      "\u001b[0;31mNameError\u001b[0m: name 'sym_clfs' is not defined"
     ]
    }
   ],
   "source": [
    "import pandas as pd\n",
    "from sklearn.preprocessing import StandardScaler\n",
    "\n",
    "for d, clf, sym_clf, emb_clf, emb_lu_clf in zip(data, clfs, sym_clfs, emb_clfs, emb_lu_clfs):    \n",
    "    X = StandardScaler().fit_transform(d['X'])\n",
    "    X_sym = StandardScaler().fit_transform(d['X_sym'])\n",
    "    \n",
    "    name = d['name']\n",
    "    pairs = np.empty(len(d['pairs']), dtype=object)\n",
    "    pairs[:] = d['pairs']\n",
    "    \n",
    "    df_data = {\n",
    "        'full': pairs[clf.decision_function(X).argsort()[::-1]][:100],\n",
    "        'symbolic': pairs[sym_clf.decision_function(X_sym).argsort()[::-1]][:100],\n",
    "    }\n",
    "    \n",
    "    if len(d['X_emb']) > 0:\n",
    "        X_emb = StandardScaler().fit_transform(d['X_emb'])\n",
    "        df_data['distributional'] = pairs[emb_clf.decision_function(X_emb).argsort()[::-1]][:100]\n",
    "    else:\n",
    "        df_data['distributional'] = np.zeros((100,), dtype=object)\n",
    "        \n",
    "    if len(d['X_emb_lu']) > 0:\n",
    "        X_emb_lu = StandardScaler().fit_transform(d['X_emb_lu'])\n",
    "        df_data['distributional_lu'] = pairs[emb_lu_clf.decision_function(X_emb_lu).argsort()[::-1]][:100]\n",
    "    else:\n",
    "        df_data['distributional_lu'] = np.zeros((100,), dtype=object)\n",
    "        \n",
    "    pd.DataFrame(df_data).to_csv(f'{name}-top-100.csv')"
   ]
  },
  {
   "cell_type": "markdown",
   "metadata": {},
   "source": [
    "## Feature coefficients (full)"
   ]
  },
  {
   "cell_type": "code",
   "execution_count": 22,
   "metadata": {},
   "outputs": [
    {
     "data": {
      "text/html": [
       "<div>\n",
       "<style scoped>\n",
       "    .dataframe tbody tr th:only-of-type {\n",
       "        vertical-align: middle;\n",
       "    }\n",
       "\n",
       "    .dataframe tbody tr th {\n",
       "        vertical-align: top;\n",
       "    }\n",
       "\n",
       "    .dataframe thead th {\n",
       "        text-align: right;\n",
       "    }\n",
       "</style>\n",
       "<table border=\"1\" class=\"dataframe\">\n",
       "  <thead>\n",
       "    <tr style=\"text-align: right;\">\n",
       "      <th></th>\n",
       "      <th>frame_def_muse</th>\n",
       "      <th>lu_muse</th>\n",
       "      <th>synset_inv</th>\n",
       "      <th>lu_wordnet</th>\n",
       "      <th>lu_bert</th>\n",
       "      <th>synset</th>\n",
       "      <th>lu_mean_muse</th>\n",
       "      <th>lu_mean_bert</th>\n",
       "    </tr>\n",
       "  </thead>\n",
       "  <tbody>\n",
       "    <tr>\n",
       "      <th>dutchfn</th>\n",
       "      <td>0.92</td>\n",
       "      <td>0.43</td>\n",
       "      <td>0.20</td>\n",
       "      <td>0.07</td>\n",
       "      <td>0.01</td>\n",
       "      <td>-0.00</td>\n",
       "      <td>-0.12</td>\n",
       "      <td>-0.47</td>\n",
       "    </tr>\n",
       "    <tr>\n",
       "      <th>fnbrasil</th>\n",
       "      <td>0.58</td>\n",
       "      <td>0.09</td>\n",
       "      <td>0.05</td>\n",
       "      <td>-0.05</td>\n",
       "      <td>0.06</td>\n",
       "      <td>0.08</td>\n",
       "      <td>0.70</td>\n",
       "      <td>-1.13</td>\n",
       "    </tr>\n",
       "    <tr>\n",
       "      <th>japanesefn</th>\n",
       "      <td>NaN</td>\n",
       "      <td>NaN</td>\n",
       "      <td>0.39</td>\n",
       "      <td>0.15</td>\n",
       "      <td>0.18</td>\n",
       "      <td>0.01</td>\n",
       "      <td>NaN</td>\n",
       "      <td>-0.54</td>\n",
       "    </tr>\n",
       "    <tr>\n",
       "      <th>spanishfn</th>\n",
       "      <td>0.38</td>\n",
       "      <td>0.14</td>\n",
       "      <td>0.17</td>\n",
       "      <td>0.06</td>\n",
       "      <td>0.13</td>\n",
       "      <td>-0.03</td>\n",
       "      <td>1.54</td>\n",
       "      <td>-2.57</td>\n",
       "    </tr>\n",
       "    <tr>\n",
       "      <th>swedishfn</th>\n",
       "      <td>0.00</td>\n",
       "      <td>0.51</td>\n",
       "      <td>0.22</td>\n",
       "      <td>0.09</td>\n",
       "      <td>0.00</td>\n",
       "      <td>0.05</td>\n",
       "      <td>-0.36</td>\n",
       "      <td>0.00</td>\n",
       "    </tr>\n",
       "    <tr>\n",
       "      <th>salsa</th>\n",
       "      <td>0.11</td>\n",
       "      <td>0.47</td>\n",
       "      <td>0.28</td>\n",
       "      <td>0.15</td>\n",
       "      <td>-0.14</td>\n",
       "      <td>0.08</td>\n",
       "      <td>-0.03</td>\n",
       "      <td>-0.16</td>\n",
       "    </tr>\n",
       "    <tr>\n",
       "      <th>frenchfn</th>\n",
       "      <td>0.11</td>\n",
       "      <td>0.16</td>\n",
       "      <td>0.66</td>\n",
       "      <td>0.23</td>\n",
       "      <td>0.07</td>\n",
       "      <td>0.37</td>\n",
       "      <td>0.73</td>\n",
       "      <td>-1.50</td>\n",
       "    </tr>\n",
       "    <tr>\n",
       "      <th>chinesefn</th>\n",
       "      <td>-0.01</td>\n",
       "      <td>0.12</td>\n",
       "      <td>0.36</td>\n",
       "      <td>0.11</td>\n",
       "      <td>NaN</td>\n",
       "      <td>0.17</td>\n",
       "      <td>-0.20</td>\n",
       "      <td>NaN</td>\n",
       "    </tr>\n",
       "  </tbody>\n",
       "</table>\n",
       "</div>"
      ],
      "text/plain": [
       "           frame_def_muse lu_muse synset_inv lu_wordnet lu_bert synset  \\\n",
       "dutchfn              0.92    0.43       0.20       0.07    0.01  -0.00   \n",
       "fnbrasil             0.58    0.09       0.05      -0.05    0.06   0.08   \n",
       "japanesefn            NaN     NaN       0.39       0.15    0.18   0.01   \n",
       "spanishfn            0.38    0.14       0.17       0.06    0.13  -0.03   \n",
       "swedishfn            0.00    0.51       0.22       0.09    0.00   0.05   \n",
       "salsa                0.11    0.47       0.28       0.15   -0.14   0.08   \n",
       "frenchfn             0.11    0.16       0.66       0.23    0.07   0.37   \n",
       "chinesefn           -0.01    0.12       0.36       0.11     NaN   0.17   \n",
       "\n",
       "           lu_mean_muse lu_mean_bert  \n",
       "dutchfn           -0.12        -0.47  \n",
       "fnbrasil           0.70        -1.13  \n",
       "japanesefn          NaN        -0.54  \n",
       "spanishfn          1.54        -2.57  \n",
       "swedishfn         -0.36         0.00  \n",
       "salsa             -0.03        -0.16  \n",
       "frenchfn           0.73        -1.50  \n",
       "chinesefn         -0.20          NaN  "
      ]
     },
     "execution_count": 22,
     "metadata": {},
     "output_type": "execute_result"
    }
   ],
   "source": [
    "index = []\n",
    "feat_data = []\n",
    "\n",
    "for d, clf in zip(data, clfs):\n",
    "    feats = np.array(d['features'])\n",
    "    idx = (-clf.coef_).argsort()\n",
    "    \n",
    "    index.append(d['name'])\n",
    "    feat_data.append({\n",
    "        f: \"%.2f\" % c\n",
    "        for f, c in zip(feats[idx][0], clf.coef_[0][idx][0])\n",
    "    })\n",
    "\n",
    "df = pd.DataFrame(feat_data, index=index)\n",
    "df.to_csv(f'feature-coefficients-full.csv')\n",
    "df"
   ]
  },
  {
   "cell_type": "markdown",
   "metadata": {},
   "source": [
    "## Feature coefficients (Full + FEs)"
   ]
  },
  {
   "cell_type": "code",
   "execution_count": 23,
   "metadata": {},
   "outputs": [
    {
     "data": {
      "text/html": [
       "<div>\n",
       "<style scoped>\n",
       "    .dataframe tbody tr th:only-of-type {\n",
       "        vertical-align: middle;\n",
       "    }\n",
       "\n",
       "    .dataframe tbody tr th {\n",
       "        vertical-align: top;\n",
       "    }\n",
       "\n",
       "    .dataframe thead th {\n",
       "        text-align: right;\n",
       "    }\n",
       "</style>\n",
       "<table border=\"1\" class=\"dataframe\">\n",
       "  <thead>\n",
       "    <tr style=\"text-align: right;\">\n",
       "      <th></th>\n",
       "      <th>all_fe_matching</th>\n",
       "      <th>core_fe_matching</th>\n",
       "      <th>lu_mean_bert</th>\n",
       "      <th>synset_inv</th>\n",
       "      <th>lu_wordnet</th>\n",
       "      <th>muse_exact_fe_match</th>\n",
       "      <th>lu_muse</th>\n",
       "      <th>muse_fe_match</th>\n",
       "      <th>frame_def_muse</th>\n",
       "      <th>synset</th>\n",
       "      <th>lu_bert</th>\n",
       "      <th>lu_mean_muse</th>\n",
       "      <th>muse_mixed_fe_match</th>\n",
       "    </tr>\n",
       "  </thead>\n",
       "  <tbody>\n",
       "    <tr>\n",
       "      <th>dutchfn</th>\n",
       "      <td>19.31</td>\n",
       "      <td>2.70</td>\n",
       "      <td>0.75</td>\n",
       "      <td>0.45</td>\n",
       "      <td>0.38</td>\n",
       "      <td>0.17</td>\n",
       "      <td>0.06</td>\n",
       "      <td>0.02</td>\n",
       "      <td>0.00</td>\n",
       "      <td>-0.21</td>\n",
       "      <td>-0.33</td>\n",
       "      <td>-0.75</td>\n",
       "      <td>NaN</td>\n",
       "    </tr>\n",
       "    <tr>\n",
       "      <th>fnbrasil</th>\n",
       "      <td>1.14</td>\n",
       "      <td>5.25</td>\n",
       "      <td>-0.88</td>\n",
       "      <td>0.03</td>\n",
       "      <td>-0.17</td>\n",
       "      <td>-0.40</td>\n",
       "      <td>0.04</td>\n",
       "      <td>-0.08</td>\n",
       "      <td>0.18</td>\n",
       "      <td>0.13</td>\n",
       "      <td>0.07</td>\n",
       "      <td>0.37</td>\n",
       "      <td>0.40</td>\n",
       "    </tr>\n",
       "    <tr>\n",
       "      <th>japanesefn</th>\n",
       "      <td>1.02</td>\n",
       "      <td>5.54</td>\n",
       "      <td>0.07</td>\n",
       "      <td>0.16</td>\n",
       "      <td>0.05</td>\n",
       "      <td>NaN</td>\n",
       "      <td>NaN</td>\n",
       "      <td>NaN</td>\n",
       "      <td>NaN</td>\n",
       "      <td>0.10</td>\n",
       "      <td>-0.09</td>\n",
       "      <td>NaN</td>\n",
       "      <td>NaN</td>\n",
       "    </tr>\n",
       "    <tr>\n",
       "      <th>spanishfn</th>\n",
       "      <td>1.35</td>\n",
       "      <td>6.68</td>\n",
       "      <td>-2.91</td>\n",
       "      <td>0.09</td>\n",
       "      <td>-0.00</td>\n",
       "      <td>0.31</td>\n",
       "      <td>0.02</td>\n",
       "      <td>-0.52</td>\n",
       "      <td>0.30</td>\n",
       "      <td>0.11</td>\n",
       "      <td>0.56</td>\n",
       "      <td>1.15</td>\n",
       "      <td>NaN</td>\n",
       "    </tr>\n",
       "    <tr>\n",
       "      <th>swedishfn</th>\n",
       "      <td>1.38</td>\n",
       "      <td>4.87</td>\n",
       "      <td>0.00</td>\n",
       "      <td>0.17</td>\n",
       "      <td>-0.02</td>\n",
       "      <td>NaN</td>\n",
       "      <td>0.19</td>\n",
       "      <td>NaN</td>\n",
       "      <td>0.00</td>\n",
       "      <td>-0.02</td>\n",
       "      <td>0.00</td>\n",
       "      <td>-0.23</td>\n",
       "      <td>NaN</td>\n",
       "    </tr>\n",
       "    <tr>\n",
       "      <th>salsa</th>\n",
       "      <td>1.72</td>\n",
       "      <td>-5.48</td>\n",
       "      <td>-1.15</td>\n",
       "      <td>0.18</td>\n",
       "      <td>0.22</td>\n",
       "      <td>6.45</td>\n",
       "      <td>0.18</td>\n",
       "      <td>-0.05</td>\n",
       "      <td>0.27</td>\n",
       "      <td>-0.12</td>\n",
       "      <td>-0.84</td>\n",
       "      <td>0.78</td>\n",
       "      <td>6.45</td>\n",
       "    </tr>\n",
       "    <tr>\n",
       "      <th>frenchfn</th>\n",
       "      <td>1.71</td>\n",
       "      <td>-17.80</td>\n",
       "      <td>4.95</td>\n",
       "      <td>0.19</td>\n",
       "      <td>0.40</td>\n",
       "      <td>21.65</td>\n",
       "      <td>0.11</td>\n",
       "      <td>0.45</td>\n",
       "      <td>-0.44</td>\n",
       "      <td>-0.05</td>\n",
       "      <td>1.48</td>\n",
       "      <td>-3.93</td>\n",
       "      <td>NaN</td>\n",
       "    </tr>\n",
       "    <tr>\n",
       "      <th>chinesefn</th>\n",
       "      <td>1.45</td>\n",
       "      <td>NaN</td>\n",
       "      <td>NaN</td>\n",
       "      <td>0.23</td>\n",
       "      <td>0.11</td>\n",
       "      <td>NaN</td>\n",
       "      <td>0.05</td>\n",
       "      <td>NaN</td>\n",
       "      <td>0.11</td>\n",
       "      <td>0.08</td>\n",
       "      <td>NaN</td>\n",
       "      <td>0.13</td>\n",
       "      <td>NaN</td>\n",
       "    </tr>\n",
       "  </tbody>\n",
       "</table>\n",
       "</div>"
      ],
      "text/plain": [
       "           all_fe_matching core_fe_matching lu_mean_bert synset_inv  \\\n",
       "dutchfn              19.31             2.70         0.75       0.45   \n",
       "fnbrasil              1.14             5.25        -0.88       0.03   \n",
       "japanesefn            1.02             5.54         0.07       0.16   \n",
       "spanishfn             1.35             6.68        -2.91       0.09   \n",
       "swedishfn             1.38             4.87         0.00       0.17   \n",
       "salsa                 1.72            -5.48        -1.15       0.18   \n",
       "frenchfn              1.71           -17.80         4.95       0.19   \n",
       "chinesefn             1.45              NaN          NaN       0.23   \n",
       "\n",
       "           lu_wordnet muse_exact_fe_match lu_muse muse_fe_match  \\\n",
       "dutchfn          0.38                0.17    0.06          0.02   \n",
       "fnbrasil        -0.17               -0.40    0.04         -0.08   \n",
       "japanesefn       0.05                 NaN     NaN           NaN   \n",
       "spanishfn       -0.00                0.31    0.02         -0.52   \n",
       "swedishfn       -0.02                 NaN    0.19           NaN   \n",
       "salsa            0.22                6.45    0.18         -0.05   \n",
       "frenchfn         0.40               21.65    0.11          0.45   \n",
       "chinesefn        0.11                 NaN    0.05           NaN   \n",
       "\n",
       "           frame_def_muse synset lu_bert lu_mean_muse muse_mixed_fe_match  \n",
       "dutchfn              0.00  -0.21   -0.33        -0.75                 NaN  \n",
       "fnbrasil             0.18   0.13    0.07         0.37                0.40  \n",
       "japanesefn            NaN   0.10   -0.09          NaN                 NaN  \n",
       "spanishfn            0.30   0.11    0.56         1.15                 NaN  \n",
       "swedishfn            0.00  -0.02    0.00        -0.23                 NaN  \n",
       "salsa                0.27  -0.12   -0.84         0.78                6.45  \n",
       "frenchfn            -0.44  -0.05    1.48        -3.93                 NaN  \n",
       "chinesefn            0.11   0.08     NaN         0.13                 NaN  "
      ]
     },
     "execution_count": 23,
     "metadata": {},
     "output_type": "execute_result"
    }
   ],
   "source": [
    "index = []\n",
    "feat_data = []\n",
    "\n",
    "for d, clf in zip(data, fe_clfs):\n",
    "    feats = np.array(d['features_fe'])\n",
    "    idx = (-clf.coef_).argsort()\n",
    "\n",
    "    index.append(d['name'])\n",
    "    feat_data.append({\n",
    "        f: \"%.2f\" % c\n",
    "        for f, c in zip(feats[idx][0], clf.coef_[0][idx][0])\n",
    "    })\n",
    "\n",
    "df = pd.DataFrame(feat_data, index=index)\n",
    "df.to_csv(f'feature-coefficients-full-fe.csv')\n",
    "df"
   ]
  },
  {
   "cell_type": "markdown",
   "metadata": {},
   "source": [
    "## Swedish and Japanese \"elbow\" analysis"
   ]
  },
  {
   "cell_type": "code",
   "execution_count": 24,
   "metadata": {
    "scrolled": false
   },
   "outputs": [
    {
     "data": {
      "text/plain": [
       "array([349, 120, 242,  48,  21, 229,  75, 210,  83, 178])"
      ]
     },
     "execution_count": 24,
     "metadata": {},
     "output_type": "execute_result"
    }
   ],
   "source": [
    "d, clf = next((d, clf) for d, clf in zip(data, fe_clfs) if d['name'] == 'japanesefn')\n",
    "    \n",
    "scaler = StandardScaler()\n",
    "X_scaled = scaler.fit_transform(d['X_fe'])\n",
    "y = d['y_fe']\n",
    "y_pred = clf.decision_function(X_scaled)\n",
    "precision, recall, thres = precision_recall_curve(y, y_pred)\n",
    "\n",
    "np.diff(-precision).argsort()[:10]"
   ]
  },
  {
   "cell_type": "code",
   "execution_count": 25,
   "metadata": {},
   "outputs": [
    {
     "data": {
      "text/plain": [
       "1.7694644816791794"
      ]
     },
     "execution_count": 25,
     "metadata": {},
     "output_type": "execute_result"
    }
   ],
   "source": [
    "thres.min()"
   ]
  },
  {
   "cell_type": "code",
   "execution_count": 31,
   "metadata": {
    "scrolled": false
   },
   "outputs": [
    {
     "data": {
      "text/plain": [
       "array([['Smuggling', 'Smuggling'],\n",
       "       ['Activity_start', 'Activity_start'],\n",
       "       ['Evidence', 'Evidence'],\n",
       "       ['Cause_to_continue', 'Cause_to_continue'],\n",
       "       ['Being_up_to_it', 'Being_up_to_it']], dtype='<U36')"
      ]
     },
     "execution_count": 31,
     "metadata": {},
     "output_type": "execute_result"
    }
   ],
   "source": [
    "np.array(d['pairs'])[(y == 1) & (y_pred > 6.15303508) & (y_pred < 6.26042263)]"
   ]
  },
  {
   "cell_type": "markdown",
   "metadata": {},
   "source": [
    "## Save German classifier for specific evaluation"
   ]
  },
  {
   "cell_type": "code",
   "execution_count": 49,
   "metadata": {},
   "outputs": [
    {
     "data": {
      "text/plain": [
       "['de_clf.joblib']"
      ]
     },
     "execution_count": 49,
     "metadata": {},
     "output_type": "execute_result"
    }
   ],
   "source": [
    "from joblib import dump\n",
    "\n",
    "salsa_idx = next(i for i, d in enumerate(data) if d['name'] == 'salsa')\n",
    "\n",
    "dump(fe_clfs[salsa_idx], 'de_clf.joblib')"
   ]
  },
  {
   "cell_type": "code",
   "execution_count": 55,
   "metadata": {},
   "outputs": [
    {
     "data": {
      "text/plain": [
       "(1476225, 8)"
      ]
     },
     "execution_count": 55,
     "metadata": {},
     "output_type": "execute_result"
    }
   ],
   "source": [
    "FULL[0][0].shape"
   ]
  },
  {
   "cell_type": "code",
   "execution_count": 70,
   "metadata": {},
   "outputs": [
    {
     "data": {
      "text/plain": [
       "227"
      ]
     },
     "execution_count": 70,
     "metadata": {},
     "output_type": "execute_result"
    }
   ],
   "source": [
    "from sklearn.preprocessing import StandardScaler\n",
    "\n",
    "X = data[salsa_idx]['X_fe']\n",
    "\n",
    "scaler = StandardScaler()\n",
    "X_scaled = scaler.fit_transform(X)\n",
    "\n",
    "fe_clfs[salsa_idx].predict(X_scaled).sum()"
   ]
  },
  {
   "cell_type": "code",
   "execution_count": 68,
   "metadata": {},
   "outputs": [
    {
     "data": {
      "text/plain": [
       "(41209, 13)"
      ]
     },
     "execution_count": 68,
     "metadata": {},
     "output_type": "execute_result"
    }
   ],
   "source": [
    "X_scaled.shape"
   ]
  },
  {
   "cell_type": "code",
   "execution_count": null,
   "metadata": {},
   "outputs": [],
   "source": []
  }
 ],
 "metadata": {
  "kernelspec": {
   "display_name": "Python 3 (ipykernel)",
   "language": "python",
   "name": "python3"
  },
  "language_info": {
   "codemirror_mode": {
    "name": "ipython",
    "version": 3
   },
   "file_extension": ".py",
   "mimetype": "text/x-python",
   "name": "python",
   "nbconvert_exporter": "python",
   "pygments_lexer": "ipython3",
   "version": "3.7.11"
  }
 },
 "nbformat": 4,
 "nbformat_minor": 2
}
