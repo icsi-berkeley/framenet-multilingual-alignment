{
 "cells": [
  {
   "cell_type": "markdown",
   "metadata": {},
   "source": [
    "## Load classifier and alignment, gold and mapping data"
   ]
  },
  {
   "cell_type": "code",
   "execution_count": 1,
   "metadata": {},
   "outputs": [
    {
     "data": {
      "text/plain": [
       "1023"
      ]
     },
     "execution_count": 1,
     "metadata": {},
     "output_type": "execute_result"
    }
   ],
   "source": [
    "import os\n",
    "import json\n",
    "from joblib import load\n",
    "\n",
    "# classifier\n",
    "clf = load('de_clf.joblib')\n",
    "\n",
    "# alignment\n",
    "with open(os.path.join('..', 'out', '202112201417_salsa.json')) as fp:\n",
    "    alignment = json.load(fp)\n",
    "\n",
    "# mapping\n",
    "with open(os.path.join('..', 'data', 'salsa-mapping-2021-11-15.json')) as fp:\n",
    "    mapping_raw = json.load(fp)\n",
    "    \n",
    "len(mapping_raw)"
   ]
  },
  {
   "cell_type": "code",
   "execution_count": 2,
   "metadata": {},
   "outputs": [
    {
     "data": {
      "text/plain": [
       "650"
      ]
     },
     "execution_count": 2,
     "metadata": {},
     "output_type": "execute_result"
    }
   ],
   "source": [
    "# proto-frames with a mapping\n",
    "len([m for m in mapping_raw if m[\"MAPPING\"]])"
   ]
  },
  {
   "cell_type": "code",
   "execution_count": 3,
   "metadata": {},
   "outputs": [
    {
     "data": {
      "text/plain": [
       "332"
      ]
     },
     "execution_count": 3,
     "metadata": {},
     "output_type": "execute_result"
    }
   ],
   "source": [
    "# proto-frames with 'PROBLEMATIC' status\n",
    "len([m for m in mapping_raw if m[\"MAPPING\"] and m[\"MAPPING\"][\"COMMENTSTATUS\"] == 3])"
   ]
  },
  {
   "cell_type": "code",
   "execution_count": 4,
   "metadata": {},
   "outputs": [
    {
     "data": {
      "text/plain": [
       "314"
      ]
     },
     "execution_count": 4,
     "metadata": {},
     "output_type": "execute_result"
    }
   ],
   "source": [
    "# filtering out unmapped and problematic salsa proto-frames\n",
    "mapping_finished = [m for m in mapping_raw if m[\"MAPPING\"] and m[\"MAPPING\"][\"COMMENTSTATUS\"] == 2]\n",
    "len(mapping_finished)"
   ]
  },
  {
   "cell_type": "code",
   "execution_count": 5,
   "metadata": {},
   "outputs": [
    {
     "data": {
      "text/plain": [
       "109"
      ]
     },
     "execution_count": 5,
     "metadata": {},
     "output_type": "execute_result"
    }
   ],
   "source": [
    "# filtering out \"trivial\" alignments\n",
    "mapping = [m for m in mapping_finished if m['MAPPING']['BERKELEYFN'] not in m['SALSA_NAME']]\n",
    "len(mapping)"
   ]
  },
  {
   "cell_type": "code",
   "execution_count": 6,
   "metadata": {},
   "outputs": [
    {
     "data": {
      "text/plain": [
       "[('Commerce_buy', 'Abnehmer1-salsa'),\n",
       " ('Presence', 'Abwesenheit1-salsa'),\n",
       " ('Distributed_position', 'Adorning'),\n",
       " ('Presence', 'Anwesenheit1-salsa'),\n",
       " ('Give_impression', 'Appearance'),\n",
       " ('Confronting_problem', 'Auge30-salsa'),\n",
       " ('Change_event_time', 'Bank6-salsa'),\n",
       " ('Giving_birth', 'Birth'),\n",
       " ('Cause_change_of_position_on_a_scale', 'Cause_change_of_scalar_position'),\n",
       " ('Undergo_change', 'Change_of_state_scenario'),\n",
       " ('Come_together', 'Congregating'),\n",
       " ('Process_start', 'Eingang4-salsa'),\n",
       " ('Conquering', 'Einnahme1-salsa'),\n",
       " ('Earnings_and_losses', 'Einnahme2-salsa'),\n",
       " ('Getting', 'Eroberung1-salsa'),\n",
       " ('Conquering', 'Eroberung3-salsa'),\n",
       " ('Stimulate_emotion', 'Experiencer_obj'),\n",
       " ('Experiencer_focused_emotion', 'Experiencer_subj'),\n",
       " ('Point_of_dispute', 'Frage3-salsa'),\n",
       " ('Appellations', 'Frau1-salsa'),\n",
       " ('Money', 'Geld1-salsa'),\n",
       " ('Money', 'Geld3-salsa'),\n",
       " ('Hearsay', 'Hear-fnsalsa'),\n",
       " ('Importing', 'Import_export'),\n",
       " ('Take_place_of', 'Newcomer'),\n",
       " ('Body_parts', 'Observable_bodyparts'),\n",
       " ('Earnings_and_losses', 'Profit1-salsa'),\n",
       " ('Relational_natural_features', 'Quelle5-salsa'),\n",
       " ('Source_of_getting', 'Quelle6-salsa'),\n",
       " ('Reading_perception', 'Reading'),\n",
       " ('Ride_vehicle', 'Ride_Vehicle'),\n",
       " ('Collaboration', 'Seite9-salsa'),\n",
       " ('Separating', 'Separation'),\n",
       " ('Stimulus_focus', 'Subject_stimulus'),\n",
       " ('Direction', 'Sueden2-salsa'),\n",
       " ('Commerce_scenario', 'Ware1-salsa'),\n",
       " ('Fining', 'ahnden1-salsa'),\n",
       " ('Offering', 'anbieten1-salsa'),\n",
       " ('Suitability', 'anbieten2-salsa'),\n",
       " ('Change_operational_state', 'anfahren1-salsa'),\n",
       " ('Adducing', 'anfuehren2-salsa'),\n",
       " ('Adducing', 'angeben2-salsa'),\n",
       " ('Amassing', 'anhaeufen1-salsa'),\n",
       " ('Confronting_problem', 'annehmen2-salsa'),\n",
       " ('Work', 'arbeiten1-salsa'),\n",
       " ('Activity_stop', 'aufhoeren2-salsa'),\n",
       " ('Activity_start', 'aufrufen1-salsa'),\n",
       " ('Change_operational_state', 'ausfallen1-salsa'),\n",
       " ('Respond_to_proposal', 'ausschlagen2-salsa'),\n",
       " ('Commitment', 'bedrohen1-salsa'),\n",
       " ('Have_as_requirement', 'beduerfen1-salsa'),\n",
       " ('Required_event', 'beduerfen2-salsa'),\n",
       " ('Needing', 'beduerfen3-salsa'),\n",
       " ('Reasoning', 'begruenden1-salsa'),\n",
       " ('Treating_and_mistreating', 'behandeln1-salsa'),\n",
       " ('Needing', 'benoetigen1-salsa'),\n",
       " ('Have_as_requirement', 'benoetigen3-salsa'),\n",
       " ('Required_event', 'benoetigen4-salsa'),\n",
       " ('Convey_importance', 'betonen2-salsa'),\n",
       " ('Needing', 'brauchen2-salsa'),\n",
       " ('Required_event', 'brauchen3-salsa'),\n",
       " ('Have_as_requirement', 'brauchen5-salsa'),\n",
       " ('Being_necessary', 'brauchen6-salsa'),\n",
       " ('Going_back_on_a_commitment', 'brechen4-salsa'),\n",
       " ('Fire_burning', 'brennen1-salsa'),\n",
       " ('Reserving', 'buchen1-salsa'),\n",
       " ('Adducing', 'darstellen2-salsa'),\n",
       " ('Create_representation', 'darstellen3-salsa'),\n",
       " ('Cause_to_perceive', 'darstellen6-salsa'),\n",
       " ('Affirm_or_deny', 'dementieren1-salsa'),\n",
       " ('Protest', 'demonstrieren1-salsa'),\n",
       " ('Cause_to_perceive', 'demonstrieren3-salsa'),\n",
       " ('Opinion', 'denken2-salsa'),\n",
       " ('Have_as_requirement', 'denken6-salsa'),\n",
       " ('Make_agreement_on_action', 'einigen1-salsa'),\n",
       " ('Attempt_suasion', 'empfehlen2-salsa'),\n",
       " ('Containing', 'enthalten1-salsa'),\n",
       " ('Recording', 'erfassen2-salsa'),\n",
       " ('Recording', 'erfassen5-salsa'),\n",
       " ('Have_as_requirement', 'erfordern2-salsa'),\n",
       " ('Giving_in', 'ergeben2-salsa'),\n",
       " ('Getting', 'erhalten4-salsa'),\n",
       " ('Explaining_the_facts', 'erklaeren1-salsa'),\n",
       " ('Explaining_the_facts', 'erklaeren4-salsa'),\n",
       " ('Explaining_the_facts', 'erklaeren6-salsa'),\n",
       " ('Being_necessary', 'fordern1-salsa'),\n",
       " ('Have_as_requirement', 'fordern2-salsa'),\n",
       " ('Being_operational', 'funktionieren1-salsa'),\n",
       " ('Success_or_failure', 'gelingen1-salsa'),\n",
       " ('Being_in_category', 'gelten4-salsa'),\n",
       " ('Required_event', 'gelten6-salsa'),\n",
       " ('Change_posture', 'legen3-salsa'),\n",
       " ('Opinion', 'meinen1-salsa'),\n",
       " ('Giving_in', 'nachgeben1-salsa'),\n",
       " ('Adducing', 'nennen2-salsa'),\n",
       " ('Protest', 'protestieren1-salsa'),\n",
       " ('Protest', 'protestieren2-salsa'),\n",
       " ('Reliance_on_expectation', 'rechnen2-salsa'),\n",
       " ('Being_in_category', 'rechnen5-salsa'),\n",
       " ('Judgment', 'respektieren1-salsa'),\n",
       " ('Success_or_failure', 'scheitern1-salsa'),\n",
       " ('Cogitation', 'ueberdenken1-salsa'),\n",
       " ('Sign_agreement', 'unterzeichnen1-salsa'),\n",
       " ('Warning', 'warnen1-salsa'),\n",
       " ('Evoking', 'wecken1-salsa'),\n",
       " ('Success_or_failure', 'wissen2-salsa'),\n",
       " ('Cause_to_perceive', 'zeigen9-salsa'),\n",
       " ('Withdraw_from_participation', 'zurueckziehen3-salsa'),\n",
       " ('Causation', 'zwingen1-salsa')]"
      ]
     },
     "execution_count": 6,
     "metadata": {},
     "output_type": "execute_result"
    }
   ],
   "source": [
    "pairs = [(m['MAPPING']['BERKELEYFN'], m['SALSA_NAME']) for m in mapping]\n",
    "pairs"
   ]
  },
  {
   "cell_type": "code",
   "execution_count": 7,
   "metadata": {},
   "outputs": [
    {
     "name": "stdout",
     "output_type": "stream",
     "text": [
      "Stimulate_emotion Experiencer_obj\n"
     ]
    }
   ],
   "source": [
    "en_name_gid = {v['name']:k for k, v in alignment['frames'].items() if v['language'] == 'en'}\n",
    "de_name_gid = {v['name']:k for k, v in alignment['frames'].items() if v['language'] == 'de'}\n",
    "\n",
    "en_gid_idx = {gid:i for i, gid in enumerate(alignment['indices'][0])}\n",
    "de_gid_idx = {gid:i for i, gid in enumerate(alignment['indices'][1])}\n",
    "\n",
    "# hardcoding name change. TODO: update data\n",
    "en_name_gid['Experiencer_focused_emotion'] = en_name_gid['Experiencer_focus']\n",
    "\n",
    "en_idx = []\n",
    "de_idx = []\n",
    "\n",
    "for x, y in pairs:\n",
    "    try:\n",
    "        en_idx.append(en_gid_idx[en_name_gid[x]])\n",
    "        de_idx.append(de_gid_idx[de_name_gid[y]])\n",
    "    except:\n",
    "        print(x, y)"
   ]
  },
  {
   "cell_type": "markdown",
   "metadata": {},
   "source": [
    "## Evaluate accuracy"
   ]
  },
  {
   "cell_type": "code",
   "execution_count": 8,
   "metadata": {},
   "outputs": [
    {
     "data": {
      "text/plain": [
       "(1249083, 13)"
      ]
     },
     "execution_count": 8,
     "metadata": {},
     "output_type": "execute_result"
    }
   ],
   "source": [
    "import numpy as np\n",
    "\n",
    "X = np.stack([np.array(a['data']).flatten()\n",
    "              for a in alignment['alignments']\n",
    "              if a['type'] != 'attr_matching']).T\n",
    "X.shape"
   ]
  },
  {
   "cell_type": "code",
   "execution_count": 9,
   "metadata": {},
   "outputs": [],
   "source": [
    "from sklearn.preprocessing import StandardScaler\n",
    "\n",
    "scaler = StandardScaler()\n",
    "X_scaled = scaler.fit_transform(X)"
   ]
  },
  {
   "cell_type": "code",
   "execution_count": 10,
   "metadata": {},
   "outputs": [
    {
     "data": {
      "text/plain": [
       "0.5185185185185185"
      ]
     },
     "execution_count": 10,
     "metadata": {},
     "output_type": "execute_result"
    }
   ],
   "source": [
    "# class prediction\n",
    "y_pred = clf.decision_function(X_scaled)\n",
    "\n",
    "# reshape to 2-d\n",
    "y_pred = y_pred.reshape((len(alignment['indices'][0]), len(alignment['indices'][1])))\n",
    "# transpose so DE frames are in 1st dim\n",
    "y_pred = y_pred[:, de_idx].T\n",
    "# Accuracy: count of occurrences where argmax equals to EN index\n",
    "acc = (y_pred.argmax(axis=1) == en_idx).sum() / y_pred.shape[0]\n",
    "\n",
    "acc"
   ]
  },
  {
   "cell_type": "code",
   "execution_count": 11,
   "metadata": {
    "scrolled": true
   },
   "outputs": [
    {
     "name": "stdout",
     "output_type": "stream",
     "text": [
      "K=2 -> 0.6018518518518519\n",
      "K=3 -> 0.6481481481481481\n",
      "K=5 -> 0.6574074074074074\n",
      "K=10 -> 0.7314814814814815\n",
      "K=20 -> 0.75\n",
      "K=50 -> 0.7685185185185185\n"
     ]
    }
   ],
   "source": [
    "# Lax-accuracy considering K-best \n",
    "def lax_acc(k):\n",
    "    return sum(t in k_best for t, k_best in zip(en_idx, y_pred.argsort(axis=1)[:, -k:])) / y_pred.shape[0]\n",
    "\n",
    "print('K=2 ->', lax_acc(2))\n",
    "print('K=3 ->', lax_acc(3))\n",
    "print('K=5 ->', lax_acc(5))\n",
    "print('K=10 ->', lax_acc(10))\n",
    "print('K=20 ->', lax_acc(20))\n",
    "print('K=50 ->', lax_acc(50))"
   ]
  },
  {
   "cell_type": "markdown",
   "metadata": {},
   "source": [
    "## Checking wrong predictions"
   ]
  },
  {
   "cell_type": "code",
   "execution_count": 12,
   "metadata": {
    "scrolled": false
   },
   "outputs": [
    {
     "data": {
      "text/plain": [
       "[('Abnehmer1-salsa', 'Commerce_buy', 'Commercial_transaction'),\n",
       " ('Bank6-salsa', 'Change_event_time', 'Means'),\n",
       " ('Change_of_state_scenario', 'Undergo_change', 'Dynamic_situation_scenario'),\n",
       " ('Eingang4-salsa', 'Process_start', 'History_scenario'),\n",
       " ('Eroberung1-salsa', 'Getting', 'Getting_scenario'),\n",
       " ('Eroberung3-salsa', 'Conquering', 'Precariousness'),\n",
       " ('Experiencer_subj', 'Experiencer_focus', 'Tolerating'),\n",
       " ('Geld1-salsa', 'Money', 'Pre_lose_possession'),\n",
       " ('Geld3-salsa', 'Money', 'Information_display'),\n",
       " ('Hear-fnsalsa', 'Hearsay', 'Becoming_silent'),\n",
       " ('Import_export', 'Importing', 'Import_export_scenario'),\n",
       " ('Newcomer', 'Take_place_of', 'Replacing'),\n",
       " ('Quelle5-salsa', 'Relational_natural_features', 'Source_of_getting'),\n",
       " ('Quelle6-salsa', 'Source_of_getting', 'Electricity'),\n",
       " ('Seite9-salsa', 'Collaboration', 'Front_for'),\n",
       " ('Sueden2-salsa', 'Direction', 'Source_path_goal'),\n",
       " ('Ware1-salsa', 'Commerce_scenario', 'Earnings_and_losses'),\n",
       " ('ahnden1-salsa', 'Fining', 'Severity_of_offense'),\n",
       " ('anbieten2-salsa', 'Suitability', 'Attributes'),\n",
       " ('anfahren1-salsa', 'Change_operational_state', 'Ranked_expectation'),\n",
       " ('annehmen2-salsa', 'Confronting_problem', 'Adopt_selection'),\n",
       " ('arbeiten1-salsa', 'Work', 'Transition_to_a_quality'),\n",
       " ('aufhoeren2-salsa', 'Activity_stop', 'Self_control'),\n",
       " ('aufrufen1-salsa', 'Activity_start', 'Activity'),\n",
       " ('ausfallen1-salsa', 'Change_operational_state', 'Physical_artworks'),\n",
       " ('bedrohen1-salsa', 'Commitment', 'Endangering'),\n",
       " ('beduerfen1-salsa', 'Have_as_requirement', 'Requirement_scenario'),\n",
       " ('begruenden1-salsa', 'Reasoning', 'Inhibit_motion_scenario'),\n",
       " ('behandeln1-salsa', 'Treating_and_mistreating', 'Operating_a_system'),\n",
       " ('benoetigen3-salsa', 'Have_as_requirement', 'Requirement_scenario'),\n",
       " ('brauchen6-salsa', 'Being_necessary', 'Have_as_requirement'),\n",
       " ('brennen1-salsa', 'Fire_burning', 'Emotion_heat'),\n",
       " ('darstellen6-salsa', 'Cause_to_perceive', 'Communicate_categorization'),\n",
       " ('dementieren1-salsa', 'Affirm_or_deny', 'Simple_name'),\n",
       " ('demonstrieren3-salsa', 'Cause_to_perceive', 'Reasoning'),\n",
       " ('einigen1-salsa', 'Make_agreement_on_action', 'Having_commercial_agreement'),\n",
       " ('empfehlen2-salsa', 'Attempt_suasion', 'Commitment'),\n",
       " ('erfassen2-salsa', 'Recording', 'Visiting_scenario'),\n",
       " ('erfassen5-salsa', 'Recording', 'Secrecy_status'),\n",
       " ('erhalten4-salsa', 'Getting', 'Precariousness'),\n",
       " ('fordern1-salsa', 'Being_necessary', 'Requirement_scenario'),\n",
       " ('funktionieren1-salsa', 'Being_operational', 'Operating_a_system'),\n",
       " ('gelingen1-salsa', 'Success_or_failure', 'Accomplishment'),\n",
       " ('gelten4-salsa', 'Being_in_category', 'Categorization'),\n",
       " ('legen3-salsa', 'Change_posture', 'Isolated_places'),\n",
       " ('rechnen2-salsa', 'Reliance_on_expectation', 'History_scenario'),\n",
       " ('scheitern1-salsa', 'Success_or_failure', 'Visiting_scenario_arrival'),\n",
       " ('ueberdenken1-salsa', 'Cogitation', 'History'),\n",
       " ('wecken1-salsa', 'Evoking', 'Cause_to_wake'),\n",
       " ('wissen2-salsa', 'Success_or_failure', 'Visitor_arrival'),\n",
       " ('zeigen9-salsa', 'Cause_to_perceive', 'Becoming_visible'),\n",
       " ('zwingen1-salsa', 'Causation', 'Repel')]"
      ]
     },
     "execution_count": 12,
     "metadata": {},
     "output_type": "execute_result"
    }
   ],
   "source": [
    "wrong_idx = y_pred.argmax(axis=1) != en_idx\n",
    "\n",
    "wrong_en_idx = np.array(en_idx)[wrong_idx]\n",
    "wrong_de_idx = np.array(de_idx)[wrong_idx]\n",
    "wrong_pred_idx = y_pred.argmax(axis=1)[wrong_idx]\n",
    "\n",
    "wrong_en_gid = np.array(alignment['indices'][0])[wrong_en_idx]\n",
    "wrong_de_gid = np.array(alignment['indices'][1])[wrong_de_idx]\n",
    "wrong_pred_gid = np.array(alignment['indices'][0])[wrong_pred_idx]\n",
    "\n",
    "frames = alignment['frames']\n",
    "\n",
    "wrong = [\n",
    "    (frames[d]['name'], frames[e]['name'], frames[p]['name'])\n",
    "    for e, d, p in zip(wrong_en_gid, wrong_de_gid, wrong_pred_gid)\n",
    "]\n",
    "\n",
    "wrong"
   ]
  },
  {
   "cell_type": "markdown",
   "metadata": {},
   "source": [
    "## Export predictions"
   ]
  },
  {
   "cell_type": "code",
   "execution_count": 16,
   "metadata": {},
   "outputs": [],
   "source": [
    "# class prediction\n",
    "y_pred = clf.decision_function(X_scaled)\n",
    "\n",
    "# reshape to 2-d\n",
    "y_pred = y_pred.reshape((len(alignment['indices'][0]), len(alignment['indices'][1]))).T\n",
    "\n",
    "best_pred = y_pred.argsort(axis=1)[:, -3:][:, ::-1]"
   ]
  },
  {
   "cell_type": "code",
   "execution_count": 18,
   "metadata": {},
   "outputs": [],
   "source": [
    "frm_pred = dict()\n",
    "frames = alignment['frames']\n",
    "\n",
    "for i, preds in enumerate(best_pred[:,:]):\n",
    "    de_frm = frames[alignment['indices'][1][i]]['name']\n",
    "    en_frms = list(map(lambda x: frames[alignment['indices'][0][x]]['name'], preds))\n",
    "    \n",
    "    frm_pred[de_frm] = en_frms"
   ]
  },
  {
   "cell_type": "code",
   "execution_count": 19,
   "metadata": {},
   "outputs": [],
   "source": [
    "out_data = []\n",
    "\n",
    "for m in mapping_raw:\n",
    "    out = {\n",
    "        'SALSA_NAME': m['SALSA_NAME'],\n",
    "    }\n",
    "    \n",
    "    if m['MAPPING']:\n",
    "        out['COMMENTSTATUS'] = m['MAPPING']['COMMENTSTATUS']\n",
    "        out['COMMENTSTATUSTEXT'] = m['MAPPING']['COMMENTSTATUSTEXT']\n",
    "        if 'BERKELEYFN' in m['MAPPING']:\n",
    "            out['BERKELEYFN'] = m['MAPPING']['BERKELEYFN'] \n",
    "        \n",
    "    out['MAPPINGPREDICTION1'] = frm_pred[m['SALSA_NAME']][0]\n",
    "    out['MAPPINGPREDICTION2'] = frm_pred[m['SALSA_NAME']][1]\n",
    "    out['MAPPINGPREDICTION3'] = frm_pred[m['SALSA_NAME']][2]\n",
    "\n",
    "    out_data.append(out)"
   ]
  },
  {
   "cell_type": "code",
   "execution_count": 24,
   "metadata": {},
   "outputs": [],
   "source": [
    "import pandas as pd\n",
    "\n",
    "pd.DataFrame.from_records(out_data).to_csv('salsa-predictions.csv')"
   ]
  },
  {
   "cell_type": "code",
   "execution_count": null,
   "metadata": {},
   "outputs": [],
   "source": []
  }
 ],
 "metadata": {
  "kernelspec": {
   "display_name": "Python 3",
   "language": "python",
   "name": "python3"
  },
  "language_info": {
   "codemirror_mode": {
    "name": "ipython",
    "version": 3
   },
   "file_extension": ".py",
   "mimetype": "text/x-python",
   "name": "python",
   "nbconvert_exporter": "python",
   "pygments_lexer": "ipython3",
   "version": "3.7.5"
  }
 },
 "nbformat": 4,
 "nbformat_minor": 5
}
