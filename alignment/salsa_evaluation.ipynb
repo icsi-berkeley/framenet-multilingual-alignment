{
 "cells": [
  {
   "cell_type": "markdown",
   "id": "6928ca8c",
   "metadata": {},
   "source": [
    "## Load classifier and alignment, gold and mapping data"
   ]
  },
  {
   "cell_type": "code",
   "execution_count": 1,
   "id": "70d0ccb3",
   "metadata": {},
   "outputs": [],
   "source": [
    "import os\n",
    "import json\n",
    "from joblib import load\n",
    "\n",
    "# classifier\n",
    "clf = load('de_clf.joblib')\n",
    "\n",
    "# alignment\n",
    "with open(os.path.join('..', 'out', '202112201417_salsa.json')) as fp:\n",
    "    alignment = json.load(fp)\n",
    "\n",
    "# mapping\n",
    "with open(os.path.join('..', 'data', 'salsa-mapping-2021-11-15.json')) as fp:\n",
    "    mapping_raw = json.load(fp)"
   ]
  },
  {
   "cell_type": "code",
   "execution_count": 2,
   "id": "186458cf",
   "metadata": {},
   "outputs": [
    {
     "data": {
      "text/plain": [
       "314"
      ]
     },
     "execution_count": 2,
     "metadata": {},
     "output_type": "execute_result"
    }
   ],
   "source": [
    "# filtering out unmapped and problematic salsa proto-frames\n",
    "mapping_finished = [m for m in mapping_raw if m[\"MAPPING\"] and m[\"MAPPING\"][\"COMMENTSTATUS\"] == 2]\n",
    "len(mapping_finished)"
   ]
  },
  {
   "cell_type": "code",
   "execution_count": 3,
   "id": "12f8d49d",
   "metadata": {},
   "outputs": [
    {
     "data": {
      "text/plain": [
       "109"
      ]
     },
     "execution_count": 3,
     "metadata": {},
     "output_type": "execute_result"
    }
   ],
   "source": [
    "# filtering out \"trivial\" alignments\n",
    "mapping = [m for m in mapping_finished if m['MAPPING']['BERKELEYFN'] not in m['SALSA_NAME']]\n",
    "len(mapping)"
   ]
  },
  {
   "cell_type": "code",
   "execution_count": 4,
   "id": "09d90eeb",
   "metadata": {},
   "outputs": [
    {
     "data": {
      "text/plain": [
       "[('Commerce_buy', 'Abnehmer1-salsa'),\n",
       " ('Presence', 'Abwesenheit1-salsa'),\n",
       " ('Distributed_position', 'Adorning'),\n",
       " ('Presence', 'Anwesenheit1-salsa'),\n",
       " ('Give_impression', 'Appearance'),\n",
       " ('Confronting_problem', 'Auge30-salsa'),\n",
       " ('Change_event_time', 'Bank6-salsa'),\n",
       " ('Giving_birth', 'Birth'),\n",
       " ('Cause_change_of_position_on_a_scale', 'Cause_change_of_scalar_position'),\n",
       " ('Undergo_change', 'Change_of_state_scenario'),\n",
       " ('Come_together', 'Congregating'),\n",
       " ('Process_start', 'Eingang4-salsa'),\n",
       " ('Conquering', 'Einnahme1-salsa'),\n",
       " ('Earnings_and_losses', 'Einnahme2-salsa'),\n",
       " ('Getting', 'Eroberung1-salsa'),\n",
       " ('Conquering', 'Eroberung3-salsa'),\n",
       " ('Stimulate_emotion', 'Experiencer_obj'),\n",
       " ('Experiencer_focused_emotion', 'Experiencer_subj'),\n",
       " ('Point_of_dispute', 'Frage3-salsa'),\n",
       " ('Appellations', 'Frau1-salsa'),\n",
       " ('Money', 'Geld1-salsa'),\n",
       " ('Money', 'Geld3-salsa'),\n",
       " ('Hearsay', 'Hear-fnsalsa'),\n",
       " ('Importing', 'Import_export'),\n",
       " ('Take_place_of', 'Newcomer'),\n",
       " ('Body_parts', 'Observable_bodyparts'),\n",
       " ('Earnings_and_losses', 'Profit1-salsa'),\n",
       " ('Relational_natural_features', 'Quelle5-salsa'),\n",
       " ('Source_of_getting', 'Quelle6-salsa'),\n",
       " ('Reading_perception', 'Reading'),\n",
       " ('Ride_vehicle', 'Ride_Vehicle'),\n",
       " ('Collaboration', 'Seite9-salsa'),\n",
       " ('Separating', 'Separation'),\n",
       " ('Stimulus_focus', 'Subject_stimulus'),\n",
       " ('Direction', 'Sueden2-salsa'),\n",
       " ('Commerce_scenario', 'Ware1-salsa'),\n",
       " ('Fining', 'ahnden1-salsa'),\n",
       " ('Offering', 'anbieten1-salsa'),\n",
       " ('Suitability', 'anbieten2-salsa'),\n",
       " ('Change_operational_state', 'anfahren1-salsa'),\n",
       " ('Adducing', 'anfuehren2-salsa'),\n",
       " ('Adducing', 'angeben2-salsa'),\n",
       " ('Amassing', 'anhaeufen1-salsa'),\n",
       " ('Confronting_problem', 'annehmen2-salsa'),\n",
       " ('Work', 'arbeiten1-salsa'),\n",
       " ('Activity_stop', 'aufhoeren2-salsa'),\n",
       " ('Activity_start', 'aufrufen1-salsa'),\n",
       " ('Change_operational_state', 'ausfallen1-salsa'),\n",
       " ('Respond_to_proposal', 'ausschlagen2-salsa'),\n",
       " ('Commitment', 'bedrohen1-salsa'),\n",
       " ('Have_as_requirement', 'beduerfen1-salsa'),\n",
       " ('Required_event', 'beduerfen2-salsa'),\n",
       " ('Needing', 'beduerfen3-salsa'),\n",
       " ('Reasoning', 'begruenden1-salsa'),\n",
       " ('Treating_and_mistreating', 'behandeln1-salsa'),\n",
       " ('Needing', 'benoetigen1-salsa'),\n",
       " ('Have_as_requirement', 'benoetigen3-salsa'),\n",
       " ('Required_event', 'benoetigen4-salsa'),\n",
       " ('Convey_importance', 'betonen2-salsa'),\n",
       " ('Needing', 'brauchen2-salsa'),\n",
       " ('Required_event', 'brauchen3-salsa'),\n",
       " ('Have_as_requirement', 'brauchen5-salsa'),\n",
       " ('Being_necessary', 'brauchen6-salsa'),\n",
       " ('Going_back_on_a_commitment', 'brechen4-salsa'),\n",
       " ('Fire_burning', 'brennen1-salsa'),\n",
       " ('Reserving', 'buchen1-salsa'),\n",
       " ('Adducing', 'darstellen2-salsa'),\n",
       " ('Create_representation', 'darstellen3-salsa'),\n",
       " ('Cause_to_perceive', 'darstellen6-salsa'),\n",
       " ('Affirm_or_deny', 'dementieren1-salsa'),\n",
       " ('Protest', 'demonstrieren1-salsa'),\n",
       " ('Cause_to_perceive', 'demonstrieren3-salsa'),\n",
       " ('Opinion', 'denken2-salsa'),\n",
       " ('Have_as_requirement', 'denken6-salsa'),\n",
       " ('Make_agreement_on_action', 'einigen1-salsa'),\n",
       " ('Attempt_suasion', 'empfehlen2-salsa'),\n",
       " ('Containing', 'enthalten1-salsa'),\n",
       " ('Recording', 'erfassen2-salsa'),\n",
       " ('Recording', 'erfassen5-salsa'),\n",
       " ('Have_as_requirement', 'erfordern2-salsa'),\n",
       " ('Giving_in', 'ergeben2-salsa'),\n",
       " ('Getting', 'erhalten4-salsa'),\n",
       " ('Explaining_the_facts', 'erklaeren1-salsa'),\n",
       " ('Explaining_the_facts', 'erklaeren4-salsa'),\n",
       " ('Explaining_the_facts', 'erklaeren6-salsa'),\n",
       " ('Being_necessary', 'fordern1-salsa'),\n",
       " ('Have_as_requirement', 'fordern2-salsa'),\n",
       " ('Being_operational', 'funktionieren1-salsa'),\n",
       " ('Success_or_failure', 'gelingen1-salsa'),\n",
       " ('Being_in_category', 'gelten4-salsa'),\n",
       " ('Required_event', 'gelten6-salsa'),\n",
       " ('Change_posture', 'legen3-salsa'),\n",
       " ('Opinion', 'meinen1-salsa'),\n",
       " ('Giving_in', 'nachgeben1-salsa'),\n",
       " ('Adducing', 'nennen2-salsa'),\n",
       " ('Protest', 'protestieren1-salsa'),\n",
       " ('Protest', 'protestieren2-salsa'),\n",
       " ('Reliance_on_expectation', 'rechnen2-salsa'),\n",
       " ('Being_in_category', 'rechnen5-salsa'),\n",
       " ('Judgment', 'respektieren1-salsa'),\n",
       " ('Success_or_failure', 'scheitern1-salsa'),\n",
       " ('Cogitation', 'ueberdenken1-salsa'),\n",
       " ('Sign_agreement', 'unterzeichnen1-salsa'),\n",
       " ('Warning', 'warnen1-salsa'),\n",
       " ('Evoking', 'wecken1-salsa'),\n",
       " ('Success_or_failure', 'wissen2-salsa'),\n",
       " ('Cause_to_perceive', 'zeigen9-salsa'),\n",
       " ('Withdraw_from_participation', 'zurueckziehen3-salsa'),\n",
       " ('Causation', 'zwingen1-salsa')]"
      ]
     },
     "execution_count": 4,
     "metadata": {},
     "output_type": "execute_result"
    }
   ],
   "source": [
    "pairs = [(m['MAPPING']['BERKELEYFN'], m['SALSA_NAME']) for m in mapping]\n",
    "pairs"
   ]
  },
  {
   "cell_type": "code",
   "execution_count": 5,
   "id": "96f27abc",
   "metadata": {},
   "outputs": [
    {
     "name": "stdout",
     "output_type": "stream",
     "text": [
      "Stimulate_emotion Experiencer_obj\n"
     ]
    }
   ],
   "source": [
    "en_name_gid = {v['name']:k for k, v in alignment['frames'].items() if v['language'] == 'en'}\n",
    "de_name_gid = {v['name']:k for k, v in alignment['frames'].items() if v['language'] == 'de'}\n",
    "\n",
    "en_gid_idx = {gid:i for i, gid in enumerate(alignment['indices'][0])}\n",
    "de_gid_idx = {gid:i for i, gid in enumerate(alignment['indices'][1])}\n",
    "\n",
    "# hardcoding name change. TODO: update data\n",
    "en_name_gid['Experiencer_focused_emotion'] = en_name_gid['Experiencer_focus']\n",
    "\n",
    "en_idx = []\n",
    "de_idx = []\n",
    "\n",
    "for x, y in pairs:\n",
    "    try:\n",
    "        en_idx.append(en_gid_idx[en_name_gid[x]])\n",
    "        de_idx.append(de_gid_idx[de_name_gid[y]])\n",
    "    except:\n",
    "        print(x, y)"
   ]
  },
  {
   "cell_type": "markdown",
   "id": "11883691",
   "metadata": {},
   "source": [
    "## Evaluate accuracy"
   ]
  },
  {
   "cell_type": "code",
   "execution_count": 34,
   "id": "3f5d0602",
   "metadata": {},
   "outputs": [
    {
     "data": {
      "text/plain": [
       "(1249083, 13)"
      ]
     },
     "execution_count": 34,
     "metadata": {},
     "output_type": "execute_result"
    }
   ],
   "source": [
    "import numpy as np\n",
    "\n",
    "X = np.stack([np.array(a['data']).flatten()\n",
    "              for a in alignment['alignments']\n",
    "              if a['type'] != 'attr_matching']).T\n",
    "X.shape"
   ]
  },
  {
   "cell_type": "code",
   "execution_count": 35,
   "id": "04c319e6",
   "metadata": {},
   "outputs": [],
   "source": [
    "from sklearn.preprocessing import StandardScaler\n",
    "\n",
    "scaler = StandardScaler()\n",
    "X_scaled = scaler.fit_transform(X)"
   ]
  },
  {
   "cell_type": "code",
   "execution_count": 73,
   "id": "81b64a15",
   "metadata": {},
   "outputs": [
    {
     "data": {
      "text/plain": [
       "0.5185185185185185"
      ]
     },
     "execution_count": 73,
     "metadata": {},
     "output_type": "execute_result"
    }
   ],
   "source": [
    "# class prediction\n",
    "y_pred = clf.decision_function(X_scaled)\n",
    "\n",
    "# reshape to 2-d\n",
    "y_pred = y_pred.reshape((len(alignment['indices'][0]), len(alignment['indices'][1])))\n",
    "# transpose so DE frames are in 1st dim\n",
    "y_pred = y_pred[:, de_idx].T\n",
    "# Accuracy: count of occurrences where argmax equals to EN index\n",
    "acc = (y_pred.argmax(axis=1) == en_idx).sum() / y_pred.shape[0]\n",
    "\n",
    "acc"
   ]
  },
  {
   "cell_type": "code",
   "execution_count": 128,
   "id": "910dceaa",
   "metadata": {},
   "outputs": [
    {
     "name": "stdout",
     "output_type": "stream",
     "text": [
      "K=3 -> 0.6481481481481481\n",
      "K=5 -> 0.6574074074074074\n",
      "K=10 -> 0.7314814814814815\n"
     ]
    }
   ],
   "source": [
    "# Lax-accuracy considering K-best \n",
    "def lax_acc(k):\n",
    "    return sum(t in k_best for t, k_best in zip(en_idx, y_pred.argsort(axis=1)[:, -k:])) / y_pred.shape[0]\n",
    "\n",
    "print('K=3 ->', lax_acc(3))\n",
    "print('K=5 ->', lax_acc(5))\n",
    "print('K=10 ->', lax_acc(10))"
   ]
  },
  {
   "cell_type": "code",
   "execution_count": null,
   "id": "f54e0d85",
   "metadata": {},
   "outputs": [],
   "source": []
  }
 ],
 "metadata": {
  "kernelspec": {
   "display_name": "Python 3 (ipykernel)",
   "language": "python",
   "name": "python3"
  },
  "language_info": {
   "codemirror_mode": {
    "name": "ipython",
    "version": 3
   },
   "file_extension": ".py",
   "mimetype": "text/x-python",
   "name": "python",
   "nbconvert_exporter": "python",
   "pygments_lexer": "ipython3",
   "version": "3.7.11"
  }
 },
 "nbformat": 4,
 "nbformat_minor": 5
}
